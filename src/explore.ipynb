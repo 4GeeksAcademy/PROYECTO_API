{
    "cells": [
        {
            "cell_type": "markdown",
            "metadata": {},
            "source": [
                "# Explore here"
            ]
        },
        {
            "cell_type": "code",
            "execution_count": 3,
            "metadata": {},
            "outputs": [
                {
                    "data": {
                        "text/plain": [
                            "True"
                        ]
                    },
                    "execution_count": 3,
                    "metadata": {},
                    "output_type": "execute_result"
                }
            ],
            "source": [
                "import os\n",
                "import pandas as pd\n",
                "import matplotlib.pyplot as plt\n",
                "from dotenv import load_dotenv\n",
                "\n",
                "# load the .env file variables\n",
                "load_dotenv()\n",
                "\n"
            ]
        },
        {
            "cell_type": "code",
            "execution_count": 4,
            "metadata": {},
            "outputs": [
                {
                    "name": "stdout",
                    "output_type": "stream",
                    "text": [
                        "Defaulting to user installation because normal site-packages is not writeable\n",
                        "Requirement already satisfied: spotipy in /home/vscode/.local/lib/python3.11/site-packages (2.23.0)\n",
                        "Requirement already satisfied: redis>=3.5.3 in /home/vscode/.local/lib/python3.11/site-packages (from spotipy) (7.0.0)\n",
                        "Requirement already satisfied: requests>=2.25.0 in /home/vscode/.local/lib/python3.11/site-packages (from spotipy) (2.27.1)\n",
                        "Requirement already satisfied: six>=1.15.0 in /home/vscode/.local/lib/python3.11/site-packages (from spotipy) (1.17.0)\n",
                        "Requirement already satisfied: urllib3>=1.26.0 in /home/vscode/.local/lib/python3.11/site-packages (from spotipy) (1.26.20)\n",
                        "Requirement already satisfied: certifi>=2017.4.17 in /home/vscode/.local/lib/python3.11/site-packages (from requests>=2.25.0->spotipy) (2025.10.5)\n",
                        "Requirement already satisfied: charset-normalizer~=2.0.0 in /home/vscode/.local/lib/python3.11/site-packages (from requests>=2.25.0->spotipy) (2.0.12)\n",
                        "Requirement already satisfied: idna<4,>=2.5 in /home/vscode/.local/lib/python3.11/site-packages (from requests>=2.25.0->spotipy) (3.11)\n",
                        "\n",
                        "\u001b[1m[\u001b[0m\u001b[34;49mnotice\u001b[0m\u001b[1;39;49m]\u001b[0m\u001b[39;49m A new release of pip is available: \u001b[0m\u001b[31;49m23.1.2\u001b[0m\u001b[39;49m -> \u001b[0m\u001b[32;49m25.2\u001b[0m\n",
                        "\u001b[1m[\u001b[0m\u001b[34;49mnotice\u001b[0m\u001b[1;39;49m]\u001b[0m\u001b[39;49m To update, run: \u001b[0m\u001b[32;49mpip install --upgrade pip\u001b[0m\n",
                        "Note: you may need to restart the kernel to use updated packages.\n"
                    ]
                }
            ],
            "source": [
                "pip install spotipy"
            ]
        },
        {
            "cell_type": "code",
            "execution_count": 5,
            "metadata": {},
            "outputs": [],
            "source": [
                "client_id = os.environ.get(\"CLIENT_ID\")\n",
                "client_secret = os.environ.get(\"CLIENT_SECRET\")\n",
                "\n",
                "import spotipy\n",
                "from spotipy.oauth2 import SpotifyClientCredentials\n",
                "\n",
                "auth_manager = SpotifyClientCredentials(client_id=client_id, client_secret=client_secret)\n",
                "spotify = spotipy.Spotify(auth_manager=auth_manager)"
            ]
        },
        {
            "cell_type": "code",
            "execution_count": 6,
            "metadata": {},
            "outputs": [],
            "source": [
                "url_shakira = \"https://open.spotify.com/intl-es/artist/0EmeFodog0BfCgMzAIvKQp\"\n",
                "\n"
            ]
        },
        {
            "cell_type": "code",
            "execution_count": 8,
            "metadata": {},
            "outputs": [
                {
                    "name": "stdout",
                    "output_type": "stream",
                    "text": [
                        "Hips Don't Lie (feat. Wyclef Jean) 86\n",
                        "TQG 80\n",
                        "Chantaje (feat. Maluma) 81\n",
                        "La Tortura (feat. Alejandro Sanz) 80\n",
                        "Soltera 80\n",
                        "Can't Remember to Forget You (feat. Rihanna) 79\n",
                        "GIRL LIKE ME 78\n",
                        "Whenever, Wherever 77\n",
                        "Antología 78\n",
                        "Ciega, Sordomuda 77\n"
                    ]
                }
            ],
            "source": [
                "# → Devuelve las canciones más populares del artista en un país específico.\n",
                "top_track = spotify.artist_top_tracks(\"0EmeFodog0BfCgMzAIvKQp\", country='ES')\n",
                "for track in top_track['tracks'][:10]:\n",
                "    print(track['name'], track['popularity'])"
            ]
        },
        {
            "cell_type": "code",
            "execution_count": 14,
            "metadata": {},
            "outputs": [
                {
                    "data": {
                        "text/html": [
                            "<div>\n",
                            "<style scoped>\n",
                            "    .dataframe tbody tr th:only-of-type {\n",
                            "        vertical-align: middle;\n",
                            "    }\n",
                            "\n",
                            "    .dataframe tbody tr th {\n",
                            "        vertical-align: top;\n",
                            "    }\n",
                            "\n",
                            "    .dataframe thead th {\n",
                            "        text-align: right;\n",
                            "    }\n",
                            "</style>\n",
                            "<table border=\"1\" class=\"dataframe\">\n",
                            "  <thead>\n",
                            "    <tr style=\"text-align: right;\">\n",
                            "      <th></th>\n",
                            "      <th>name</th>\n",
                            "      <th>popularity</th>\n",
                            "      <th>album</th>\n",
                            "      <th>duration_ms</th>\n",
                            "    </tr>\n",
                            "  </thead>\n",
                            "  <tbody>\n",
                            "    <tr>\n",
                            "      <th>0</th>\n",
                            "      <td>Hips Don't Lie (feat. Wyclef Jean)</td>\n",
                            "      <td>86</td>\n",
                            "      <td>Oral Fixation, Vol. 2 (Expanded Edition)</td>\n",
                            "      <td>220360</td>\n",
                            "    </tr>\n",
                            "    <tr>\n",
                            "      <th>1</th>\n",
                            "      <td>TQG</td>\n",
                            "      <td>80</td>\n",
                            "      <td>MAÑANA SERÁ BONITO</td>\n",
                            "      <td>197933</td>\n",
                            "    </tr>\n",
                            "    <tr>\n",
                            "      <th>2</th>\n",
                            "      <td>Chantaje (feat. Maluma)</td>\n",
                            "      <td>81</td>\n",
                            "      <td>El Dorado</td>\n",
                            "      <td>195840</td>\n",
                            "    </tr>\n",
                            "    <tr>\n",
                            "      <th>3</th>\n",
                            "      <td>La Tortura (feat. Alejandro Sanz)</td>\n",
                            "      <td>80</td>\n",
                            "      <td>Fijación Oral Volumen 1 (Expanded Edition)</td>\n",
                            "      <td>216225</td>\n",
                            "    </tr>\n",
                            "    <tr>\n",
                            "      <th>4</th>\n",
                            "      <td>Soltera</td>\n",
                            "      <td>80</td>\n",
                            "      <td>Soltera</td>\n",
                            "      <td>214642</td>\n",
                            "    </tr>\n",
                            "    <tr>\n",
                            "      <th>5</th>\n",
                            "      <td>Can't Remember to Forget You (feat. Rihanna)</td>\n",
                            "      <td>79</td>\n",
                            "      <td>Shakira. (Expanded Edition) [Spanish Version]</td>\n",
                            "      <td>206866</td>\n",
                            "    </tr>\n",
                            "    <tr>\n",
                            "      <th>6</th>\n",
                            "      <td>GIRL LIKE ME</td>\n",
                            "      <td>78</td>\n",
                            "      <td>TRANSLATION</td>\n",
                            "      <td>222522</td>\n",
                            "    </tr>\n",
                            "    <tr>\n",
                            "      <th>7</th>\n",
                            "      <td>Whenever, Wherever</td>\n",
                            "      <td>77</td>\n",
                            "      <td>Laundry Service</td>\n",
                            "      <td>196160</td>\n",
                            "    </tr>\n",
                            "    <tr>\n",
                            "      <th>8</th>\n",
                            "      <td>Antología</td>\n",
                            "      <td>78</td>\n",
                            "      <td>Pies Descalzos</td>\n",
                            "      <td>254240</td>\n",
                            "    </tr>\n",
                            "    <tr>\n",
                            "      <th>9</th>\n",
                            "      <td>Ciega, Sordomuda</td>\n",
                            "      <td>77</td>\n",
                            "      <td>Donde Estan Los Ladrones</td>\n",
                            "      <td>267826</td>\n",
                            "    </tr>\n",
                            "  </tbody>\n",
                            "</table>\n",
                            "</div>"
                        ],
                        "text/plain": [
                            "                                           name  popularity  \\\n",
                            "0            Hips Don't Lie (feat. Wyclef Jean)          86   \n",
                            "1                                           TQG          80   \n",
                            "2                       Chantaje (feat. Maluma)          81   \n",
                            "3             La Tortura (feat. Alejandro Sanz)          80   \n",
                            "4                                       Soltera          80   \n",
                            "5  Can't Remember to Forget You (feat. Rihanna)          79   \n",
                            "6                                  GIRL LIKE ME          78   \n",
                            "7                            Whenever, Wherever          77   \n",
                            "8                                     Antología          78   \n",
                            "9                              Ciega, Sordomuda          77   \n",
                            "\n",
                            "                                           album  duration_ms  \n",
                            "0       Oral Fixation, Vol. 2 (Expanded Edition)       220360  \n",
                            "1                             MAÑANA SERÁ BONITO       197933  \n",
                            "2                                      El Dorado       195840  \n",
                            "3     Fijación Oral Volumen 1 (Expanded Edition)       216225  \n",
                            "4                                        Soltera       214642  \n",
                            "5  Shakira. (Expanded Edition) [Spanish Version]       206866  \n",
                            "6                                    TRANSLATION       222522  \n",
                            "7                                Laundry Service       196160  \n",
                            "8                                 Pies Descalzos       254240  \n",
                            "9                       Donde Estan Los Ladrones       267826  "
                        ]
                    },
                    "execution_count": 14,
                    "metadata": {},
                    "output_type": "execute_result"
                }
            ],
            "source": [
                "# convertir a dataframe\n",
                "data = []\n",
                "for track in top_track['tracks']:\n",
                "    data.append({\n",
                "        'name': track['name'],\n",
                "        'popularity': track['popularity'],\n",
                "        'album': track['album']['name'],\n",
                "        'duration_ms': track['duration_ms'],\n",
                "       \n",
                "    })\n",
                "df = pd.DataFrame(data)\n",
                "df.head(10)"
            ]
        },
        {
            "cell_type": "code",
            "execution_count": 27,
            "metadata": {},
            "outputs": [
                {
                    "data": {
                        "text/html": [
                            "<div>\n",
                            "<style scoped>\n",
                            "    .dataframe tbody tr th:only-of-type {\n",
                            "        vertical-align: middle;\n",
                            "    }\n",
                            "\n",
                            "    .dataframe tbody tr th {\n",
                            "        vertical-align: top;\n",
                            "    }\n",
                            "\n",
                            "    .dataframe thead th {\n",
                            "        text-align: right;\n",
                            "    }\n",
                            "</style>\n",
                            "<table border=\"1\" class=\"dataframe\">\n",
                            "  <thead>\n",
                            "    <tr style=\"text-align: right;\">\n",
                            "      <th></th>\n",
                            "      <th>name</th>\n",
                            "      <th>popularity</th>\n",
                            "      <th>album</th>\n",
                            "      <th>duration_ms</th>\n",
                            "    </tr>\n",
                            "  </thead>\n",
                            "  <tbody>\n",
                            "    <tr>\n",
                            "      <th>0</th>\n",
                            "      <td>Whenever, Wherever</td>\n",
                            "      <td>77</td>\n",
                            "      <td>Laundry Service</td>\n",
                            "      <td>196160</td>\n",
                            "    </tr>\n",
                            "    <tr>\n",
                            "      <th>1</th>\n",
                            "      <td>Ciega, Sordomuda</td>\n",
                            "      <td>77</td>\n",
                            "      <td>Donde Estan Los Ladrones</td>\n",
                            "      <td>267826</td>\n",
                            "    </tr>\n",
                            "    <tr>\n",
                            "      <th>2</th>\n",
                            "      <td>Antología</td>\n",
                            "      <td>78</td>\n",
                            "      <td>Pies Descalzos</td>\n",
                            "      <td>254240</td>\n",
                            "    </tr>\n",
                            "  </tbody>\n",
                            "</table>\n",
                            "</div>"
                        ],
                        "text/plain": [
                            "                 name  popularity                     album  duration_ms\n",
                            "0  Whenever, Wherever          77           Laundry Service       196160\n",
                            "1    Ciega, Sordomuda          77  Donde Estan Los Ladrones       267826\n",
                            "2           Antología          78            Pies Descalzos       254240"
                        ]
                    },
                    "execution_count": 27,
                    "metadata": {},
                    "output_type": "execute_result"
                }
            ],
            "source": [
                "# ordenarlo por popularidad\n",
                "df_popularity = df.sort_values(by='popularity', ascending=True).reset_index(drop=True)\n",
                "df_popularity = pd.DataFrame(df_popularity)\n",
                "df_popularity.head(3)"
            ]
        },
        {
            "cell_type": "code",
            "execution_count": 28,
            "metadata": {},
            "outputs": [
                {
                    "data": {
                        "image/png": "[encoded data removed]",
                        "text/plain": [
                            "<Figure size 640x480 with 1 Axes>"
                        ]
                    },
                    "metadata": {},
                    "output_type": "display_data"
                }
            ],
            "source": [
                "x = df['duration_ms']\n",
                "y = df['popularity']\n",
                "\n",
                "fig, ax = plt.subplots()\n",
                "ax.scatter(x,y, \n",
                "           color='purple', # Color de puntos\n",
                "           s=50,           # Tamaño de puntos\n",
                "           alpha=0.7,      # Transparencia\n",
                "           marker='*')     # Forma del marcador\n",
                "ax.set_title('Relación entre Duración y Popularidad')\n",
                "ax.set_xlabel('Duración (ms)')\n",
                "ax.set_ylabel('Popularidad')\n",
                "plt.show()"
            ]
        },
        {
            "cell_type": "markdown",
            "metadata": {},
            "source": [
                "# EN EL GRÁFICO SE PUEDE APRECIAR QUE NO TIENE RELACIÓN LA DURACIÓN CON LA POPULARIDAD, YA QUE LAS CANCIONES CON MAS DURACIÓN NO SON LAS MAS POPULARES "
            ]
        }
    ],
    "metadata": {
        "kernelspec": {
            "display_name": "Python 3",
            "language": "python",
            "name": "python3"
        },
        "language_info": {
            "codemirror_mode": {
                "name": "ipython",
                "version": 3
            },
            "file_extension": ".py",
            "mimetype": "text/x-python",
            "name": "python",
            "nbconvert_exporter": "python",
            "pygments_lexer": "ipython3",
            "version": "3.11.4"
        },
        "orig_nbformat": 4
    },
    "nbformat": 4,
    "nbformat_minor": 2
}
